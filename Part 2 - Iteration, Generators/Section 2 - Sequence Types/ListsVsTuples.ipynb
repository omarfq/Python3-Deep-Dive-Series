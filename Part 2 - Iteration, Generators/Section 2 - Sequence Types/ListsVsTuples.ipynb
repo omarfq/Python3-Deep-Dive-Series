{
 "cells": [
  {
   "cell_type": "markdown",
   "source": [
    "# Lists vs Tuples"
   ],
   "metadata": {}
  },
  {
   "cell_type": "markdown",
   "source": [
    "Wikipedia's definition of constant folding:\n",
    "\n",
    "Constant folding is the process of recognizing and evaluating constant expressions at compile time rather than computing them at runtime."
   ],
   "metadata": {}
  },
  {
   "cell_type": "code",
   "execution_count": 1,
   "source": [
    "from dis import dis"
   ],
   "outputs": [],
   "metadata": {}
  },
  {
   "cell_type": "code",
   "execution_count": 2,
   "source": [
    "(1, 2, 3)"
   ],
   "outputs": [
    {
     "output_type": "execute_result",
     "data": {
      "text/plain": [
       "(1, 2, 3)"
      ]
     },
     "metadata": {},
     "execution_count": 2
    }
   ],
   "metadata": {}
  },
  {
   "cell_type": "code",
   "execution_count": 3,
   "source": [
    "[1, 2, 3]"
   ],
   "outputs": [
    {
     "output_type": "execute_result",
     "data": {
      "text/plain": [
       "[1, 2, 3]"
      ]
     },
     "metadata": {},
     "execution_count": 3
    }
   ],
   "metadata": {}
  },
  {
   "cell_type": "code",
   "execution_count": 4,
   "source": [
    "dis(compile('(1, 2, 3, \"a\")', 'string', 'eval'))"
   ],
   "outputs": [
    {
     "output_type": "stream",
     "name": "stdout",
     "text": [
      "  1           0 LOAD_CONST               0 ((1, 2, 3, 'a'))\n",
      "              2 RETURN_VALUE\n"
     ]
    }
   ],
   "metadata": {}
  },
  {
   "cell_type": "code",
   "execution_count": 7,
   "source": [
    "dis(compile('[1, 2, 3, \"a\"]', 'string', 'eval'))"
   ],
   "outputs": [
    {
     "output_type": "stream",
     "name": "stdout",
     "text": [
      "  1           0 BUILD_LIST               0\n",
      "              2 LOAD_CONST               0 ((1, 2, 3, 'a'))\n",
      "              4 LIST_EXTEND              1\n",
      "              6 RETURN_VALUE\n"
     ]
    }
   ],
   "metadata": {}
  },
  {
   "cell_type": "code",
   "execution_count": 8,
   "source": [
    "dis(compile('(1, 2, 3, [10, 20])', 'string', 'eval'))"
   ],
   "outputs": [
    {
     "output_type": "stream",
     "name": "stdout",
     "text": [
      "  1           0 LOAD_CONST               0 (1)\n",
      "              2 LOAD_CONST               1 (2)\n",
      "              4 LOAD_CONST               2 (3)\n",
      "              6 LOAD_CONST               3 (10)\n",
      "              8 LOAD_CONST               4 (20)\n",
      "             10 BUILD_LIST               2\n",
      "             12 BUILD_TUPLE              4\n",
      "             14 RETURN_VALUE\n"
     ]
    }
   ],
   "metadata": {}
  },
  {
   "cell_type": "code",
   "execution_count": 9,
   "source": [
    "from timeit import timeit"
   ],
   "outputs": [],
   "metadata": {}
  },
  {
   "cell_type": "code",
   "execution_count": 10,
   "source": [
    "timeit(\"(1, 2, 3, 4, 5, 6, 7, 8, 9)\", number=10_000_000)"
   ],
   "outputs": [
    {
     "output_type": "execute_result",
     "data": {
      "text/plain": [
       "0.07267336399999635"
      ]
     },
     "metadata": {},
     "execution_count": 10
    }
   ],
   "metadata": {}
  },
  {
   "cell_type": "code",
   "execution_count": 11,
   "source": [
    "timeit(\"[1, 2, 3, 4, 5, 6, 7, 8, 9]\", number=10_000_000)"
   ],
   "outputs": [
    {
     "output_type": "execute_result",
     "data": {
      "text/plain": [
       "0.6557831959999874"
      ]
     },
     "metadata": {},
     "execution_count": 11
    }
   ],
   "metadata": {}
  },
  {
   "cell_type": "code",
   "execution_count": 12,
   "source": [
    "def fn1():\n",
    "    pass"
   ],
   "outputs": [],
   "metadata": {}
  },
  {
   "cell_type": "code",
   "execution_count": 13,
   "source": [
    "dis(compile('(fn1, 10, 20)', 'string', 'eval'))"
   ],
   "outputs": [
    {
     "output_type": "stream",
     "name": "stdout",
     "text": [
      "  1           0 LOAD_NAME                0 (fn1)\n",
      "              2 LOAD_CONST               0 (10)\n",
      "              4 LOAD_CONST               1 (20)\n",
      "              6 BUILD_TUPLE              3\n",
      "              8 RETURN_VALUE\n"
     ]
    }
   ],
   "metadata": {}
  },
  {
   "cell_type": "code",
   "execution_count": 14,
   "source": [
    "dis(compile('(1, 2, 3, [10, 20])', 'string', 'eval'))"
   ],
   "outputs": [
    {
     "output_type": "stream",
     "name": "stdout",
     "text": [
      "  1           0 LOAD_CONST               0 (1)\n",
      "              2 LOAD_CONST               1 (2)\n",
      "              4 LOAD_CONST               2 (3)\n",
      "              6 LOAD_CONST               3 (10)\n",
      "              8 LOAD_CONST               4 (20)\n",
      "             10 BUILD_LIST               2\n",
      "             12 BUILD_TUPLE              4\n",
      "             14 RETURN_VALUE\n"
     ]
    }
   ],
   "metadata": {}
  },
  {
   "cell_type": "code",
   "execution_count": 15,
   "source": [
    "dis(compile('[1, 2, 3, [10, 20]]', 'string', 'eval'))"
   ],
   "outputs": [
    {
     "output_type": "stream",
     "name": "stdout",
     "text": [
      "  1           0 LOAD_CONST               0 (1)\n",
      "              2 LOAD_CONST               1 (2)\n",
      "              4 LOAD_CONST               2 (3)\n",
      "              6 LOAD_CONST               3 (10)\n",
      "              8 LOAD_CONST               4 (20)\n",
      "             10 BUILD_LIST               2\n",
      "             12 BUILD_LIST               4\n",
      "             14 RETURN_VALUE\n"
     ]
    }
   ],
   "metadata": {}
  },
  {
   "cell_type": "code",
   "execution_count": 16,
   "source": [
    "timeit(\"([1, 2], 10, 20)\", number=1_000_000)"
   ],
   "outputs": [
    {
     "output_type": "execute_result",
     "data": {
      "text/plain": [
       "0.0982502679999584"
      ]
     },
     "metadata": {},
     "execution_count": 16
    }
   ],
   "metadata": {}
  },
  {
   "cell_type": "code",
   "execution_count": 17,
   "source": [
    "timeit(\"[[1, 2], 10, 20]\", number=1_000_000)"
   ],
   "outputs": [
    {
     "output_type": "execute_result",
     "data": {
      "text/plain": [
       "0.09045488399999613"
      ]
     },
     "metadata": {},
     "execution_count": 17
    }
   ],
   "metadata": {}
  },
  {
   "cell_type": "code",
   "execution_count": 18,
   "source": [
    "l1 = [1, 2, 3, 4, 5, 6, 7, 8, 9]\n",
    "t1 = (1, 2, 3, 4, 5, 6, 7, 8, 9)"
   ],
   "outputs": [],
   "metadata": {}
  },
  {
   "cell_type": "code",
   "execution_count": 19,
   "source": [
    "id(l1), id(t1)"
   ],
   "outputs": [
    {
     "output_type": "execute_result",
     "data": {
      "text/plain": [
       "(140267593496832, 140268130819760)"
      ]
     },
     "metadata": {},
     "execution_count": 19
    }
   ],
   "metadata": {}
  },
  {
   "cell_type": "code",
   "execution_count": 21,
   "source": [
    "l2 = list(l1)\n",
    "id(l1), id(l2)"
   ],
   "outputs": [
    {
     "output_type": "execute_result",
     "data": {
      "text/plain": [
       "(140267593496832, 140267593858496)"
      ]
     },
     "metadata": {},
     "execution_count": 21
    }
   ],
   "metadata": {}
  },
  {
   "cell_type": "code",
   "execution_count": 22,
   "source": [
    "t2 = tuple(t1)\n",
    "id(t1), id(t2)"
   ],
   "outputs": [
    {
     "output_type": "execute_result",
     "data": {
      "text/plain": [
       "(140268130819760, 140268130819760)"
      ]
     },
     "metadata": {},
     "execution_count": 22
    }
   ],
   "metadata": {}
  },
  {
   "cell_type": "code",
   "execution_count": 23,
   "source": [
    "timeit('tuple((1, 2, 3, 4, 5))', number=5_000_000)"
   ],
   "outputs": [
    {
     "output_type": "execute_result",
     "data": {
      "text/plain": [
       "0.3292931400000043"
      ]
     },
     "metadata": {},
     "execution_count": 23
    }
   ],
   "metadata": {}
  },
  {
   "cell_type": "code",
   "execution_count": 24,
   "source": [
    "timeit('list((1, 2, 3, 4, 5))', number=5_000_000)"
   ],
   "outputs": [
    {
     "output_type": "execute_result",
     "data": {
      "text/plain": [
       "0.7017718199999763"
      ]
     },
     "metadata": {},
     "execution_count": 24
    }
   ],
   "metadata": {}
  },
  {
   "cell_type": "markdown",
   "source": [
    "## Storage Efficiency"
   ],
   "metadata": {}
  },
  {
   "cell_type": "code",
   "execution_count": 25,
   "source": [
    "import sys\n",
    "\n",
    "t = tuple()\n",
    "prev = sys.getsizeof(t)\n",
    "for i in range(10):\n",
    "    c = tuple(range(i+1))\n",
    "    size_c = sys.getsizeof(c)\n",
    "    delta, prev = size_c - prev, size_c\n",
    "    print(f'{i+1} items: {size_c}, delta={delta}')"
   ],
   "outputs": [
    {
     "output_type": "stream",
     "name": "stdout",
     "text": [
      "1 items: 48, delta=8\n",
      "2 items: 56, delta=8\n",
      "3 items: 64, delta=8\n",
      "4 items: 72, delta=8\n",
      "5 items: 80, delta=8\n",
      "6 items: 88, delta=8\n",
      "7 items: 96, delta=8\n",
      "8 items: 104, delta=8\n",
      "9 items: 112, delta=8\n",
      "10 items: 120, delta=8\n"
     ]
    }
   ],
   "metadata": {}
  },
  {
   "cell_type": "code",
   "execution_count": 26,
   "source": [
    "l = list()\n",
    "prev = sys.getsizeof(l)\n",
    "for i in range(10):\n",
    "    c = list(range(i+1))\n",
    "    size_c = sys.getsizeof(c)\n",
    "    delta, prev = size_c - prev, size_c\n",
    "    print(f'{i+1} items: {size_c}, delta={delta}')"
   ],
   "outputs": [
    {
     "output_type": "stream",
     "name": "stdout",
     "text": [
      "1 items: 64, delta=8\n",
      "2 items: 72, delta=8\n",
      "3 items: 80, delta=8\n",
      "4 items: 88, delta=8\n",
      "5 items: 96, delta=8\n",
      "6 items: 104, delta=8\n",
      "7 items: 112, delta=8\n",
      "8 items: 120, delta=8\n",
      "9 items: 128, delta=8\n",
      "10 items: 136, delta=8\n"
     ]
    }
   ],
   "metadata": {}
  },
  {
   "cell_type": "code",
   "execution_count": 27,
   "source": [
    "c = list()\n",
    "prev = sys.getsizeof(c)\n",
    "print(f'0 items: {prev}')\n",
    "for i in range(255):\n",
    "    c.append(i)\n",
    "    size_c = sys.getsizeof(c)\n",
    "    delta, prev = size_c - prev, size_c\n",
    "    print(f'{i+1} items: {size_c}, delta={delta}')"
   ],
   "outputs": [
    {
     "output_type": "stream",
     "name": "stdout",
     "text": [
      "0 items: 56\n",
      "1 items: 88, delta=32\n",
      "2 items: 88, delta=0\n",
      "3 items: 88, delta=0\n",
      "4 items: 88, delta=0\n",
      "5 items: 120, delta=32\n",
      "6 items: 120, delta=0\n",
      "7 items: 120, delta=0\n",
      "8 items: 120, delta=0\n",
      "9 items: 184, delta=64\n",
      "10 items: 184, delta=0\n",
      "11 items: 184, delta=0\n",
      "12 items: 184, delta=0\n",
      "13 items: 184, delta=0\n",
      "14 items: 184, delta=0\n",
      "15 items: 184, delta=0\n",
      "16 items: 184, delta=0\n",
      "17 items: 248, delta=64\n",
      "18 items: 248, delta=0\n",
      "19 items: 248, delta=0\n",
      "20 items: 248, delta=0\n",
      "21 items: 248, delta=0\n",
      "22 items: 248, delta=0\n",
      "23 items: 248, delta=0\n",
      "24 items: 248, delta=0\n",
      "25 items: 312, delta=64\n",
      "26 items: 312, delta=0\n",
      "27 items: 312, delta=0\n",
      "28 items: 312, delta=0\n",
      "29 items: 312, delta=0\n",
      "30 items: 312, delta=0\n",
      "31 items: 312, delta=0\n",
      "32 items: 312, delta=0\n",
      "33 items: 376, delta=64\n",
      "34 items: 376, delta=0\n",
      "35 items: 376, delta=0\n",
      "36 items: 376, delta=0\n",
      "37 items: 376, delta=0\n",
      "38 items: 376, delta=0\n",
      "39 items: 376, delta=0\n",
      "40 items: 376, delta=0\n",
      "41 items: 472, delta=96\n",
      "42 items: 472, delta=0\n",
      "43 items: 472, delta=0\n",
      "44 items: 472, delta=0\n",
      "45 items: 472, delta=0\n",
      "46 items: 472, delta=0\n",
      "47 items: 472, delta=0\n",
      "48 items: 472, delta=0\n",
      "49 items: 472, delta=0\n",
      "50 items: 472, delta=0\n",
      "51 items: 472, delta=0\n",
      "52 items: 472, delta=0\n",
      "53 items: 568, delta=96\n",
      "54 items: 568, delta=0\n",
      "55 items: 568, delta=0\n",
      "56 items: 568, delta=0\n",
      "57 items: 568, delta=0\n",
      "58 items: 568, delta=0\n",
      "59 items: 568, delta=0\n",
      "60 items: 568, delta=0\n",
      "61 items: 568, delta=0\n",
      "62 items: 568, delta=0\n",
      "63 items: 568, delta=0\n",
      "64 items: 568, delta=0\n",
      "65 items: 664, delta=96\n",
      "66 items: 664, delta=0\n",
      "67 items: 664, delta=0\n",
      "68 items: 664, delta=0\n",
      "69 items: 664, delta=0\n",
      "70 items: 664, delta=0\n",
      "71 items: 664, delta=0\n",
      "72 items: 664, delta=0\n",
      "73 items: 664, delta=0\n",
      "74 items: 664, delta=0\n",
      "75 items: 664, delta=0\n",
      "76 items: 664, delta=0\n",
      "77 items: 792, delta=128\n",
      "78 items: 792, delta=0\n",
      "79 items: 792, delta=0\n",
      "80 items: 792, delta=0\n",
      "81 items: 792, delta=0\n",
      "82 items: 792, delta=0\n",
      "83 items: 792, delta=0\n",
      "84 items: 792, delta=0\n",
      "85 items: 792, delta=0\n",
      "86 items: 792, delta=0\n",
      "87 items: 792, delta=0\n",
      "88 items: 792, delta=0\n",
      "89 items: 792, delta=0\n",
      "90 items: 792, delta=0\n",
      "91 items: 792, delta=0\n",
      "92 items: 792, delta=0\n",
      "93 items: 920, delta=128\n",
      "94 items: 920, delta=0\n",
      "95 items: 920, delta=0\n",
      "96 items: 920, delta=0\n",
      "97 items: 920, delta=0\n",
      "98 items: 920, delta=0\n",
      "99 items: 920, delta=0\n",
      "100 items: 920, delta=0\n",
      "101 items: 920, delta=0\n",
      "102 items: 920, delta=0\n",
      "103 items: 920, delta=0\n",
      "104 items: 920, delta=0\n",
      "105 items: 920, delta=0\n",
      "106 items: 920, delta=0\n",
      "107 items: 920, delta=0\n",
      "108 items: 920, delta=0\n",
      "109 items: 1080, delta=160\n",
      "110 items: 1080, delta=0\n",
      "111 items: 1080, delta=0\n",
      "112 items: 1080, delta=0\n",
      "113 items: 1080, delta=0\n",
      "114 items: 1080, delta=0\n",
      "115 items: 1080, delta=0\n",
      "116 items: 1080, delta=0\n",
      "117 items: 1080, delta=0\n",
      "118 items: 1080, delta=0\n",
      "119 items: 1080, delta=0\n",
      "120 items: 1080, delta=0\n",
      "121 items: 1080, delta=0\n",
      "122 items: 1080, delta=0\n",
      "123 items: 1080, delta=0\n",
      "124 items: 1080, delta=0\n",
      "125 items: 1080, delta=0\n",
      "126 items: 1080, delta=0\n",
      "127 items: 1080, delta=0\n",
      "128 items: 1080, delta=0\n",
      "129 items: 1240, delta=160\n",
      "130 items: 1240, delta=0\n",
      "131 items: 1240, delta=0\n",
      "132 items: 1240, delta=0\n",
      "133 items: 1240, delta=0\n",
      "134 items: 1240, delta=0\n",
      "135 items: 1240, delta=0\n",
      "136 items: 1240, delta=0\n",
      "137 items: 1240, delta=0\n",
      "138 items: 1240, delta=0\n",
      "139 items: 1240, delta=0\n",
      "140 items: 1240, delta=0\n",
      "141 items: 1240, delta=0\n",
      "142 items: 1240, delta=0\n",
      "143 items: 1240, delta=0\n",
      "144 items: 1240, delta=0\n",
      "145 items: 1240, delta=0\n",
      "146 items: 1240, delta=0\n",
      "147 items: 1240, delta=0\n",
      "148 items: 1240, delta=0\n",
      "149 items: 1432, delta=192\n",
      "150 items: 1432, delta=0\n",
      "151 items: 1432, delta=0\n",
      "152 items: 1432, delta=0\n",
      "153 items: 1432, delta=0\n",
      "154 items: 1432, delta=0\n",
      "155 items: 1432, delta=0\n",
      "156 items: 1432, delta=0\n",
      "157 items: 1432, delta=0\n",
      "158 items: 1432, delta=0\n",
      "159 items: 1432, delta=0\n",
      "160 items: 1432, delta=0\n",
      "161 items: 1432, delta=0\n",
      "162 items: 1432, delta=0\n",
      "163 items: 1432, delta=0\n",
      "164 items: 1432, delta=0\n",
      "165 items: 1432, delta=0\n",
      "166 items: 1432, delta=0\n",
      "167 items: 1432, delta=0\n",
      "168 items: 1432, delta=0\n",
      "169 items: 1432, delta=0\n",
      "170 items: 1432, delta=0\n",
      "171 items: 1432, delta=0\n",
      "172 items: 1432, delta=0\n",
      "173 items: 1656, delta=224\n",
      "174 items: 1656, delta=0\n",
      "175 items: 1656, delta=0\n",
      "176 items: 1656, delta=0\n",
      "177 items: 1656, delta=0\n",
      "178 items: 1656, delta=0\n",
      "179 items: 1656, delta=0\n",
      "180 items: 1656, delta=0\n",
      "181 items: 1656, delta=0\n",
      "182 items: 1656, delta=0\n",
      "183 items: 1656, delta=0\n",
      "184 items: 1656, delta=0\n",
      "185 items: 1656, delta=0\n",
      "186 items: 1656, delta=0\n",
      "187 items: 1656, delta=0\n",
      "188 items: 1656, delta=0\n",
      "189 items: 1656, delta=0\n",
      "190 items: 1656, delta=0\n",
      "191 items: 1656, delta=0\n",
      "192 items: 1656, delta=0\n",
      "193 items: 1656, delta=0\n",
      "194 items: 1656, delta=0\n",
      "195 items: 1656, delta=0\n",
      "196 items: 1656, delta=0\n",
      "197 items: 1656, delta=0\n",
      "198 items: 1656, delta=0\n",
      "199 items: 1656, delta=0\n",
      "200 items: 1656, delta=0\n",
      "201 items: 1912, delta=256\n",
      "202 items: 1912, delta=0\n",
      "203 items: 1912, delta=0\n",
      "204 items: 1912, delta=0\n",
      "205 items: 1912, delta=0\n",
      "206 items: 1912, delta=0\n",
      "207 items: 1912, delta=0\n",
      "208 items: 1912, delta=0\n",
      "209 items: 1912, delta=0\n",
      "210 items: 1912, delta=0\n",
      "211 items: 1912, delta=0\n",
      "212 items: 1912, delta=0\n",
      "213 items: 1912, delta=0\n",
      "214 items: 1912, delta=0\n",
      "215 items: 1912, delta=0\n",
      "216 items: 1912, delta=0\n",
      "217 items: 1912, delta=0\n",
      "218 items: 1912, delta=0\n",
      "219 items: 1912, delta=0\n",
      "220 items: 1912, delta=0\n",
      "221 items: 1912, delta=0\n",
      "222 items: 1912, delta=0\n",
      "223 items: 1912, delta=0\n",
      "224 items: 1912, delta=0\n",
      "225 items: 1912, delta=0\n",
      "226 items: 1912, delta=0\n",
      "227 items: 1912, delta=0\n",
      "228 items: 1912, delta=0\n",
      "229 items: 1912, delta=0\n",
      "230 items: 1912, delta=0\n",
      "231 items: 1912, delta=0\n",
      "232 items: 1912, delta=0\n",
      "233 items: 2200, delta=288\n",
      "234 items: 2200, delta=0\n",
      "235 items: 2200, delta=0\n",
      "236 items: 2200, delta=0\n",
      "237 items: 2200, delta=0\n",
      "238 items: 2200, delta=0\n",
      "239 items: 2200, delta=0\n",
      "240 items: 2200, delta=0\n",
      "241 items: 2200, delta=0\n",
      "242 items: 2200, delta=0\n",
      "243 items: 2200, delta=0\n",
      "244 items: 2200, delta=0\n",
      "245 items: 2200, delta=0\n",
      "246 items: 2200, delta=0\n",
      "247 items: 2200, delta=0\n",
      "248 items: 2200, delta=0\n",
      "249 items: 2200, delta=0\n",
      "250 items: 2200, delta=0\n",
      "251 items: 2200, delta=0\n",
      "252 items: 2200, delta=0\n",
      "253 items: 2200, delta=0\n",
      "254 items: 2200, delta=0\n",
      "255 items: 2200, delta=0\n"
     ]
    }
   ],
   "metadata": {}
  },
  {
   "cell_type": "code",
   "execution_count": 29,
   "source": [
    "t = tuple(range(100_000))\n",
    "l = list(t)"
   ],
   "outputs": [],
   "metadata": {}
  },
  {
   "cell_type": "code",
   "execution_count": 32,
   "source": [
    "timeit('t[99_999]', globals=globals(), number=10_000_000)"
   ],
   "outputs": [
    {
     "output_type": "execute_result",
     "data": {
      "text/plain": [
       "0.3463325480000776"
      ]
     },
     "metadata": {},
     "execution_count": 32
    }
   ],
   "metadata": {}
  },
  {
   "cell_type": "code",
   "execution_count": 33,
   "source": [
    "timeit('l[99_999]', globals=globals(), number=10_000_000)"
   ],
   "outputs": [
    {
     "output_type": "execute_result",
     "data": {
      "text/plain": [
       "0.3371485269999539"
      ]
     },
     "metadata": {},
     "execution_count": 33
    }
   ],
   "metadata": {}
  },
  {
   "cell_type": "code",
   "execution_count": null,
   "source": [],
   "outputs": [],
   "metadata": {}
  }
 ],
 "metadata": {
  "orig_nbformat": 4,
  "language_info": {
   "name": "python",
   "version": "3.9.4",
   "mimetype": "text/x-python",
   "codemirror_mode": {
    "name": "ipython",
    "version": 3
   },
   "pygments_lexer": "ipython3",
   "nbconvert_exporter": "python",
   "file_extension": ".py"
  },
  "kernelspec": {
   "name": "python3",
   "display_name": "Python 3.9.4 64-bit"
  },
  "interpreter": {
   "hash": "aee8b7b246df8f9039afb4144a1f6fd8d2ca17a180786b69acc140d282b71a49"
  }
 },
 "nbformat": 4,
 "nbformat_minor": 2
}