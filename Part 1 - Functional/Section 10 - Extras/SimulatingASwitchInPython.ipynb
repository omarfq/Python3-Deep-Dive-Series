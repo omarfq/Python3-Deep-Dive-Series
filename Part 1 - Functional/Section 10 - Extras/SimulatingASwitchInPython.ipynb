{
 "cells": [
  {
   "cell_type": "markdown",
   "source": [
    "# Stimulating a Simple Switch in Python"
   ],
   "metadata": {}
  },
  {
   "cell_type": "markdown",
   "source": [
    "This is based on a few questions I've received regarding a `switch` statement in Python.\n",
    "\n",
    "Python does not have a switch statement, but it is possible to have similar functionality in a variety of ways.\n",
    "\n",
    "Here I'm going to assume a simple `switch` statement where each `case` has a `break` (in other words, no fall through), and is based on a single value.\n",
    "\n",
    "You can see a PEP that discussed adding a `switch` statement to Python, proposed by Guido, but ultimately rejected (by Guido as well):\n",
    "https://www.python.org/dev/peps/pep-3103/"
   ],
   "metadata": {}
  },
  {
   "cell_type": "markdown",
   "source": [
    "```\n",
    "switch (dow) {\n",
    "    case 1: dowString = 'Monday';\n",
    "            break;\n",
    "    case 2: dowString = 'Tuesday';\n",
    "            break;\n",
    "    case 3: dowString = 'Wednesday';\n",
    "            break;\n",
    "    case 4: dowString = 'Thursday';\n",
    "            break;\n",
    "    case 5: dowString = 'Friday';\n",
    "            break;\n",
    "    case 6: dowString = 'Saturday';\n",
    "            break;\n",
    "    case 7: dowString = 'Sunday';\n",
    "            break;\n",
    "    default: dowString = 'Invalid day of week';\n",
    "}\n",
    "```"
   ],
   "metadata": {}
  },
  {
   "cell_type": "code",
   "execution_count": 1,
   "source": [
    "def dow_switch_fn(dow):\n",
    "    if dow == 1:\n",
    "        fn = lambda: print('Monday')\n",
    "    elif dow == 2:\n",
    "        fn = lambda: print('Tuesday')\n",
    "    elif dow == 3:\n",
    "        fn = lambda: print('Wednesday')\n",
    "    elif dow == 4:\n",
    "        fn = lambda: print('Thrusday')\n",
    "    elif dow == 5:\n",
    "        fn = lambda: print('Friday')\n",
    "    elif dow == 6:\n",
    "        fn = lambda: print('Saturday')\n",
    "    elif dow == 7:\n",
    "        fn = lambda: print('Sunday')\n",
    "    else:\n",
    "        fn = lambda: print('Invalid day of week')\n",
    "    \n",
    "    return fn()"
   ],
   "outputs": [],
   "metadata": {}
  },
  {
   "cell_type": "code",
   "execution_count": 2,
   "source": [
    "dow_switch_fn(1)"
   ],
   "outputs": [
    {
     "output_type": "stream",
     "name": "stdout",
     "text": [
      "Monday\n"
     ]
    }
   ],
   "metadata": {}
  },
  {
   "cell_type": "code",
   "execution_count": 3,
   "source": [
    "dow_switch_fn(100)"
   ],
   "outputs": [
    {
     "output_type": "stream",
     "name": "stdout",
     "text": [
      "Invalid day of week\n"
     ]
    }
   ],
   "metadata": {}
  },
  {
   "cell_type": "code",
   "execution_count": 4,
   "source": [
    "def dow_switch_dict(dow):\n",
    "    dow_dict = {\n",
    "        1: lambda: print('Monday'),\n",
    "        2: lambda: print('Tuesday'),\n",
    "        3: lambda: print('Wednesday'),\n",
    "        4: lambda: print('Thursday'),\n",
    "        5: lambda: print('Friday'),\n",
    "        6: lambda: print('Saturday'),\n",
    "        7: lambda: print('Sunday'),\n",
    "        'default': lambda: print('Invalid day of week')\n",
    "    }\n",
    "\n",
    "    return dow_dict.get(dow, dow_dict['default'])()"
   ],
   "outputs": [],
   "metadata": {}
  },
  {
   "cell_type": "code",
   "execution_count": 5,
   "source": [
    "dow_switch_dict(1)"
   ],
   "outputs": [
    {
     "output_type": "stream",
     "name": "stdout",
     "text": [
      "Monday\n"
     ]
    }
   ],
   "metadata": {}
  },
  {
   "cell_type": "code",
   "execution_count": 6,
   "source": [
    "dow_switch_dict(100)"
   ],
   "outputs": [
    {
     "output_type": "stream",
     "name": "stdout",
     "text": [
      "Invalid day of week\n"
     ]
    }
   ],
   "metadata": {}
  },
  {
   "cell_type": "markdown",
   "source": [
    "One advantage of using a dictionary (as an associative array), is that you can add and remove elements from the dictionary at run time. Of course you cannot do that with the `if...elif...else` - you need to know at compile time how many branches your \"switch\" has (just like a regular `switch` would, that is also fixed once the code has been compiled+\n",
    ").\n",
    "\n",
    "But the downside of this approach compared to `if...elif...else` is that the dictionary values are relatively simple and cannot contain nested if statements or anything else. In the case of `if...elif...else` your code blocks for each of these statement can contain as many lines of code as you want.\n",
    "\n",
    "So the choice is yours, and depends on what you are trying to accomplish.\n",
    "\n",
    "Now, there is also another way to do this, and it is based on the concepts I discuss in the decorator videos on the single dispatch generic functions.\n",
    "\n",
    "We cannot use the standard library's `@singledispatch` decorator, but we can adapt the approach I showed you to create a `switch` function where we can register each `case` of the `switch`.\n",
    "\n",
    "First, let's recall our own implementation of the `@singledispatch` decorator:"
   ],
   "metadata": {}
  },
  {
   "cell_type": "code",
   "execution_count": 9,
   "source": [
    "def switcher(fn):\n",
    "    registry = dict()\n",
    "    registry['default'] = fn\n",
    "    \n",
    "    def register(case):\n",
    "        def inner(fn):\n",
    "            registry[case] = fn\n",
    "            return fn  # we do this so we can stack register decorators!\n",
    "        return inner\n",
    "   \n",
    "    def decorator(case):\n",
    "        fn = registry.get(case, registry['default'])\n",
    "        return fn()\n",
    "\n",
    "    decorator.register = register\n",
    "    return decorator"
   ],
   "outputs": [],
   "metadata": {}
  },
  {
   "cell_type": "code",
   "execution_count": 12,
   "source": [
    "@switcher\n",
    "def dow():\n",
    "    return 'Invalid day of week'\n",
    "\n",
    "@dow.register(1)\n",
    "def dow_1():\n",
    "    print('Monday')\n",
    "\n",
    "dow.register(2)(lambda: print('Tuesday'))\n",
    "dow.register(3)(lambda: print('Wednesday'))\n",
    "dow.register(4)(lambda: print('Thursday'))\n",
    "dow.register(5)(lambda: print('Friday'))\n",
    "dow.register(6)(lambda: print('Saturday'))\n",
    "dow.register(7)(lambda: print('Sunday'))"
   ],
   "outputs": [
    {
     "output_type": "execute_result",
     "data": {
      "text/plain": [
       "<function __main__.<lambda>()>"
      ]
     },
     "metadata": {},
     "execution_count": 12
    }
   ],
   "metadata": {}
  },
  {
   "cell_type": "code",
   "execution_count": 13,
   "source": [
    "dow(1)"
   ],
   "outputs": [
    {
     "output_type": "stream",
     "name": "stdout",
     "text": [
      "Monday\n"
     ]
    }
   ],
   "metadata": {}
  },
  {
   "cell_type": "code",
   "execution_count": 14,
   "source": [
    "dow(2)"
   ],
   "outputs": [
    {
     "output_type": "stream",
     "name": "stdout",
     "text": [
      "Tuesday\n"
     ]
    }
   ],
   "metadata": {}
  },
  {
   "cell_type": "code",
   "execution_count": 15,
   "source": [
    "dow(100)"
   ],
   "outputs": [
    {
     "output_type": "execute_result",
     "data": {
      "text/plain": [
       "'Invalid day of week'"
      ]
     },
     "metadata": {},
     "execution_count": 15
    }
   ],
   "metadata": {}
  },
  {
   "cell_type": "markdown",
   "source": [
    "Of course you'll notice that our decorator is simply using the same dictionary / associative array approach we just looked at - except we can use decorators to do that work."
   ],
   "metadata": {}
  },
  {
   "cell_type": "markdown",
   "source": [],
   "metadata": {}
  }
 ],
 "metadata": {
  "orig_nbformat": 4,
  "language_info": {
   "name": "python",
   "version": "3.9.4",
   "mimetype": "text/x-python",
   "codemirror_mode": {
    "name": "ipython",
    "version": 3
   },
   "pygments_lexer": "ipython3",
   "nbconvert_exporter": "python",
   "file_extension": ".py"
  },
  "kernelspec": {
   "name": "python3",
   "display_name": "Python 3.9.4 64-bit"
  },
  "interpreter": {
   "hash": "aee8b7b246df8f9039afb4144a1f6fd8d2ca17a180786b69acc140d282b71a49"
  }
 },
 "nbformat": 4,
 "nbformat_minor": 2
}