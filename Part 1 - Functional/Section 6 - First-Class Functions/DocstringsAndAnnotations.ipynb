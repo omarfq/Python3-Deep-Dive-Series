{
 "cells": [
  {
   "cell_type": "markdown",
   "source": [
    "# Docstrings and Annotations"
   ],
   "metadata": {}
  },
  {
   "cell_type": "code",
   "execution_count": 9,
   "source": [
    "def my_func(a, b=1):\n",
    "    # some commment here\n",
    "    'some stirng here' # Python takes as annotation the first string it encounters in your code\n",
    "    \"\"\"\n",
    "    returns a * b\n",
    "\n",
    "    Inputs:\n",
    "\n",
    "    Outputs:\n",
    "    \"\"\"\n",
    "    return a * b"
   ],
   "outputs": [],
   "metadata": {}
  },
  {
   "cell_type": "code",
   "execution_count": 10,
   "source": [
    "help(my_func)"
   ],
   "outputs": [
    {
     "output_type": "stream",
     "name": "stdout",
     "text": [
      "Help on function my_func in module __main__:\n",
      "\n",
      "my_func(a, b=1)\n",
      "    some stirng here\n",
      "\n"
     ]
    }
   ],
   "metadata": {}
  },
  {
   "cell_type": "code",
   "execution_count": 11,
   "source": [
    "my_func.__doc__"
   ],
   "outputs": [
    {
     "output_type": "execute_result",
     "data": {
      "text/plain": [
       "'some stirng here'"
      ]
     },
     "metadata": {},
     "execution_count": 11
    }
   ],
   "metadata": {}
  },
  {
   "cell_type": "code",
   "execution_count": 12,
   "source": [
    "def my_func(a: 'annotation for a', \n",
    "            b: 'annotation for b' = 1) -> 'something with a long annotation':\n",
    "    \"\"\"documentation for my_func\"\"\"\n",
    "    return a * b\n"
   ],
   "outputs": [],
   "metadata": {}
  },
  {
   "cell_type": "code",
   "execution_count": 13,
   "source": [
    "help(my_func)"
   ],
   "outputs": [
    {
     "output_type": "stream",
     "name": "stdout",
     "text": [
      "Help on function my_func in module __main__:\n",
      "\n",
      "my_func(a: 'annotation for a', b: 'annotation for b' = 1) -> 'something with a long annotation'\n",
      "    documentation for my_func\n",
      "\n"
     ]
    }
   ],
   "metadata": {}
  },
  {
   "cell_type": "code",
   "execution_count": 14,
   "source": [
    "my_func.__doc__"
   ],
   "outputs": [
    {
     "output_type": "execute_result",
     "data": {
      "text/plain": [
       "'documentation for my_func'"
      ]
     },
     "metadata": {},
     "execution_count": 14
    }
   ],
   "metadata": {}
  },
  {
   "cell_type": "code",
   "execution_count": 15,
   "source": [
    "my_func.__annotations__"
   ],
   "outputs": [
    {
     "output_type": "execute_result",
     "data": {
      "text/plain": [
       "{'a': 'annotation for a',\n",
       " 'b': 'annotation for b',\n",
       " 'return': 'something with a long annotation'}"
      ]
     },
     "metadata": {},
     "execution_count": 15
    }
   ],
   "metadata": {}
  },
  {
   "cell_type": "code",
   "execution_count": 24,
   "source": [
    "x = 3\n",
    "y = 5\n",
    "def my_func(a: 'some character', b=max(x, y)) -> 'character a repeated ' + str(max(x, y)) + ' times':\n",
    "    print(b)\n",
    "    return a * max(x, y)"
   ],
   "outputs": [],
   "metadata": {}
  },
  {
   "cell_type": "code",
   "execution_count": 25,
   "source": [
    "my_func('a')"
   ],
   "outputs": [
    {
     "output_type": "stream",
     "name": "stdout",
     "text": [
      "5\n"
     ]
    },
    {
     "output_type": "execute_result",
     "data": {
      "text/plain": [
       "'aaaaa'"
      ]
     },
     "metadata": {},
     "execution_count": 25
    }
   ],
   "metadata": {}
  },
  {
   "cell_type": "code",
   "execution_count": 27,
   "source": [
    "my_func.__annotations__"
   ],
   "outputs": [
    {
     "output_type": "execute_result",
     "data": {
      "text/plain": [
       "{'a': 'some character', 'return': 'character a repeated 5 times'}"
      ]
     },
     "metadata": {},
     "execution_count": 27
    }
   ],
   "metadata": {}
  },
  {
   "cell_type": "code",
   "execution_count": 28,
   "source": [
    "x = 10"
   ],
   "outputs": [],
   "metadata": {}
  },
  {
   "cell_type": "code",
   "execution_count": 29,
   "source": [
    "my_func('a')"
   ],
   "outputs": [
    {
     "output_type": "stream",
     "name": "stdout",
     "text": [
      "5\n"
     ]
    },
    {
     "output_type": "execute_result",
     "data": {
      "text/plain": [
       "'aaaaaaaaaa'"
      ]
     },
     "metadata": {},
     "execution_count": 29
    }
   ],
   "metadata": {}
  },
  {
   "cell_type": "code",
   "execution_count": 30,
   "source": [
    "def my_func(a: str,\n",
    "            b: 'int > 0' = 1,\n",
    "            *args: 'some extra positional arguments',\n",
    "            k1: 'keyword-only arg 1',\n",
    "            k2: 'keyword-only arg 2' = 100,\n",
    "            **kwargs: 'some extra keyword-only args') -> 'something':\n",
    "    print(a, b, args, k1, k2, kwargs)"
   ],
   "outputs": [],
   "metadata": {}
  },
  {
   "cell_type": "code",
   "execution_count": 31,
   "source": [
    "help(my_func)"
   ],
   "outputs": [
    {
     "output_type": "stream",
     "name": "stdout",
     "text": [
      "Help on function my_func in module __main__:\n",
      "\n",
      "my_func(a: str, b: 'int > 0' = 1, *args: 'some extra positional arguments', k1: 'keyword-only arg 1', k2: 'keyword-only arg 2' = 100, **kwargs: 'some extra keyword-only args') -> 'something'\n",
      "\n"
     ]
    }
   ],
   "metadata": {}
  },
  {
   "cell_type": "code",
   "execution_count": 32,
   "source": [
    "my_func.__annotations__"
   ],
   "outputs": [
    {
     "output_type": "execute_result",
     "data": {
      "text/plain": [
       "{'a': str,\n",
       " 'b': 'int > 0',\n",
       " 'args': 'some extra positional arguments',\n",
       " 'k1': 'keyword-only arg 1',\n",
       " 'k2': 'keyword-only arg 2',\n",
       " 'kwargs': 'some extra keyword-only args',\n",
       " 'return': 'something'}"
      ]
     },
     "metadata": {},
     "execution_count": 32
    }
   ],
   "metadata": {}
  },
  {
   "cell_type": "code",
   "execution_count": 34,
   "source": [
    "my_func(1,2,3,4,5,k1=10, k3=300, k4=400)"
   ],
   "outputs": [
    {
     "output_type": "stream",
     "name": "stdout",
     "text": [
      "1 2 (3, 4, 5) 10 100 {'k3': 300, 'k4': 400}\n"
     ]
    }
   ],
   "metadata": {}
  },
  {
   "cell_type": "code",
   "execution_count": null,
   "source": [],
   "outputs": [],
   "metadata": {}
  }
 ],
 "metadata": {
  "orig_nbformat": 4,
  "language_info": {
   "name": "python",
   "version": "3.9.4",
   "mimetype": "text/x-python",
   "codemirror_mode": {
    "name": "ipython",
    "version": 3
   },
   "pygments_lexer": "ipython3",
   "nbconvert_exporter": "python",
   "file_extension": ".py"
  },
  "kernelspec": {
   "name": "python3",
   "display_name": "Python 3.9.4 64-bit"
  },
  "interpreter": {
   "hash": "aee8b7b246df8f9039afb4144a1f6fd8d2ca17a180786b69acc140d282b71a49"
  }
 },
 "nbformat": 4,
 "nbformat_minor": 2
}